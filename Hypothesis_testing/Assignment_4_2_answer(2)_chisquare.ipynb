{
 "cells": [
  {
   "cell_type": "markdown",
   "id": "dc90fbaa",
   "metadata": {},
   "source": [
    "# Chi square test"
   ]
  },
  {
   "cell_type": "markdown",
   "id": "6e646ad0",
   "metadata": {},
   "source": [
    "# Please look into the word document for the first part of the answer"
   ]
  },
  {
   "cell_type": "code",
   "execution_count": 24,
   "id": "a0763697",
   "metadata": {},
   "outputs": [],
   "source": [
    "# importing libraries\n",
    "import numpy as np\n",
    "from scipy.stats import chi2_contingency"
   ]
  },
  {
   "cell_type": "code",
   "execution_count": 25,
   "id": "b1744c58",
   "metadata": {},
   "outputs": [],
   "source": [
    "\n",
    "# Creating contingency table\n",
    "observed= np.array([[50,70],\n",
    "                   [80,100],\n",
    "                   [60,90],\n",
    "                   [30,50],\n",
    "                   [20,50]])"
   ]
  },
  {
   "cell_type": "code",
   "execution_count": 26,
   "id": "7b52c91f",
   "metadata": {},
   "outputs": [
    {
     "name": "stdout",
     "output_type": "stream",
     "text": [
      "chi square statistic = 5.638227513227513\n",
      "p = 0.22784371130697179\n",
      "Degrees of freedom = 4\n",
      "Expected frequency = [[ 48.  72.]\n",
      " [ 72. 108.]\n",
      " [ 60.  90.]\n",
      " [ 32.  48.]\n",
      " [ 28.  42.]]\n"
     ]
    }
   ],
   "source": [
    "# Perform chi2 test using chi2_contingency from scipy.stats\n",
    "\n",
    "chi2, p, dof, expected = chi2_contingency(observed)\n",
    "print (f'chi square statistic = {chi2}' )\n",
    "print (f'p = {p}' )\n",
    "print (f'Degrees of freedom = {dof}' )\n",
    "print (f'Expected frequency = {expected}' )\n"
   ]
  },
  {
   "cell_type": "code",
   "execution_count": null,
   "id": "8a8bbf83",
   "metadata": {},
   "outputs": [],
   "source": [
    "Since p value > 0.05 (alpha value = 0.05) null hypothesis is accepted.\n",
    "There is no relationship between the variables."
   ]
  }
 ],
 "metadata": {
  "kernelspec": {
   "display_name": "Python 3 (ipykernel)",
   "language": "python",
   "name": "python3"
  },
  "language_info": {
   "codemirror_mode": {
    "name": "ipython",
    "version": 3
   },
   "file_extension": ".py",
   "mimetype": "text/x-python",
   "name": "python",
   "nbconvert_exporter": "python",
   "pygments_lexer": "ipython3",
   "version": "3.9.12"
  }
 },
 "nbformat": 4,
 "nbformat_minor": 5
}
