{
 "cells": [
  {
   "cell_type": "markdown",
   "id": "a3193c6a",
   "metadata": {},
   "source": [
    "# HYPOTHESIS TESTING"
   ]
  },
  {
   "cell_type": "raw",
   "id": "5b403569",
   "metadata": {},
   "source": [
    "Operating costs in a week 'W'\n",
    "W=$1000+$5X, where X-> No. of units produced in a week"
   ]
  },
  {
   "cell_type": "raw",
   "id": "d568b4c7",
   "metadata": {},
   "source": [
    "Ho:Observed weekly operating costs are lower than or equal to W\n",
    "Mu<=W\n",
    "Ha:Observed weekly operating costs are higher than W\n",
    "Mu>W"
   ]
  },
  {
   "cell_type": "raw",
   "id": "88fa9b28",
   "metadata": {},
   "source": [
    "n= 25\n",
    "sample mean= 3050\n",
    "alpha= 0.05\n",
    "df= 24\n",
    "no. of units= 600\n",
    "\n",
    "Mu= W= 1000 + 5(600)\n",
    "1000+1200\n",
    "Mu=2200\n",
    "\n",
    "pop. std dev= 5*25= 125 (Given)"
   ]
  },
  {
   "cell_type": "raw",
   "id": "aaac782f",
   "metadata": {},
   "source": [
    "z= sample mean-pop mean/(pop std dev/sq. root (n))\n",
    "z test is done since population std dev is given"
   ]
  },
  {
   "cell_type": "code",
   "execution_count": 27,
   "id": "2d93bcf6",
   "metadata": {},
   "outputs": [
    {
     "data": {
      "text/plain": [
       "34.0"
      ]
     },
     "execution_count": 27,
     "metadata": {},
     "output_type": "execute_result"
    }
   ],
   "source": [
    "z=(3050-2200)/(125/(25**0.5))\n",
    "z"
   ]
  },
  {
   "cell_type": "raw",
   "id": "a742a060",
   "metadata": {},
   "source": [
    "This is a right tailed z test"
   ]
  },
  {
   "cell_type": "code",
   "execution_count": 26,
   "id": "140283a3",
   "metadata": {},
   "outputs": [],
   "source": [
    "# import libraries\n",
    "import pandas as pd\n",
    "import scipy\n",
    "from scipy import stats\n",
    "import numpy as np"
   ]
  },
  {
   "cell_type": "code",
   "execution_count": 28,
   "id": "09f6fe76",
   "metadata": {},
   "outputs": [
    {
     "data": {
      "text/plain": [
       "0.0"
      ]
     },
     "execution_count": 28,
     "metadata": {},
     "output_type": "execute_result"
    }
   ],
   "source": [
    "# To get the probability value at z=34 use the below code. Since this is a right tailed test '1-' is added in the code.\n",
    "\n",
    "1-stats.norm.cdf(34,loc=0,scale=1)"
   ]
  },
  {
   "cell_type": "raw",
   "id": "106eb088",
   "metadata": {},
   "source": [
    "Since alpha=0.05, and p value < 0.05, null hypothesis is rejected."
   ]
  },
  {
   "cell_type": "code",
   "execution_count": null,
   "id": "2808e491",
   "metadata": {},
   "outputs": [],
   "source": [
    "Also, calculating the the  "
   ]
  },
  {
   "cell_type": "code",
   "execution_count": 32,
   "id": "cc15b7e9",
   "metadata": {},
   "outputs": [
    {
     "data": {
      "text/plain": [
       "1.6448536269514722"
      ]
     },
     "execution_count": 32,
     "metadata": {},
     "output_type": "execute_result"
    }
   ],
   "source": [
    "stats.norm.ppf(1-0.05,loc=0,scale=1)"
   ]
  },
  {
   "cell_type": "code",
   "execution_count": null,
   "id": "9fea9fbb",
   "metadata": {},
   "outputs": [],
   "source": [
    "Since 1.645 lies to the right side of 0.05 in a normal distribution graph, this is considered in rejection region. \n",
    "Hence Ho is rejected."
   ]
  },
  {
   "cell_type": "code",
   "execution_count": null,
   "id": "7de070e9",
   "metadata": {},
   "outputs": [],
   "source": [
    "Conclusion-\n",
    "Observed weekly operating costs are higher than W\n"
   ]
  }
 ],
 "metadata": {
  "kernelspec": {
   "display_name": "Python 3 (ipykernel)",
   "language": "python",
   "name": "python3"
  },
  "language_info": {
   "codemirror_mode": {
    "name": "ipython",
    "version": 3
   },
   "file_extension": ".py",
   "mimetype": "text/x-python",
   "name": "python",
   "nbconvert_exporter": "python",
   "pygments_lexer": "ipython3",
   "version": "3.9.12"
  }
 },
 "nbformat": 4,
 "nbformat_minor": 5
}
