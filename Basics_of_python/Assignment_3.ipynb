{
 "cells": [
  {
   "cell_type": "markdown",
   "id": "f4dddee1",
   "metadata": {},
   "source": [
    "# Prime Numbers"
   ]
  },
  {
   "cell_type": "code",
   "execution_count": null,
   "id": "e2a25932",
   "metadata": {},
   "outputs": [],
   "source": [
    "Write a Python program that checks whether a given number is prime or not. \n",
    "A prime number is a natural number greater than 1 that has no positive divisors other than 1 and itself."
   ]
  },
  {
   "cell_type": "code",
   "execution_count": 8,
   "id": "e84adc80",
   "metadata": {},
   "outputs": [
    {
     "name": "stdout",
     "output_type": "stream",
     "text": [
      "Enter a number: 1\n",
      "1\n"
     ]
    },
    {
     "data": {
      "text/plain": [
       "int"
      ]
     },
     "execution_count": 8,
     "metadata": {},
     "output_type": "execute_result"
    }
   ],
   "source": [
    "x=eval(input(\"Enter a number: \"))\n",
    "print (x)\n",
    "type(x)"
   ]
  },
  {
   "cell_type": "code",
   "execution_count": 36,
   "id": "6d163168",
   "metadata": {},
   "outputs": [
    {
     "name": "stdout",
     "output_type": "stream",
     "text": [
      "Enter a positive number: 10\n",
      "Number is composite\n"
     ]
    }
   ],
   "source": [
    "x=eval(input(\"Enter a positive number: \")) # Code to input numbers. eval to change the datatype into integer from string.\n",
    "if (x==1) and (x==0): # Since 0 and 1 are not prime nor composite, these are handled as exceptions\n",
    "    print (\" Neither prime nor composite \")\n",
    "elif x==2: # 2 is handled as exception as it's the only prime even number and including this in general formula can complicate the code.\n",
    "    print (\"2 is prime number\")\n",
    "else:\n",
    "    for i in range (2,x): # Running loop from 2 until the input number\n",
    "        if x %i == 0: # If modulus is equal to 0, then the number is composite\n",
    "            print (\"Number is composite\")\n",
    "            break # Breaking the loop. If one number in the range is divisible by 0 then there is no need to further continue the loop.\n",
    "            \n",
    "\n",
    "    else:\n",
    "        print (\"Number is prime\") # If not composite then prime\n",
    "            \n",
    "\n"
   ]
  },
  {
   "cell_type": "markdown",
   "id": "2efb9ac8",
   "metadata": {},
   "source": [
    "# Product of Random Numbers"
   ]
  },
  {
   "cell_type": "code",
   "execution_count": 37,
   "id": "551540ab",
   "metadata": {},
   "outputs": [],
   "source": [
    "import random "
   ]
  },
  {
   "cell_type": "code",
   "execution_count": 65,
   "id": "4432fd1e",
   "metadata": {},
   "outputs": [
    {
     "name": "stdout",
     "output_type": "stream",
     "text": [
      "Enter product of 10 and 4: 290\n",
      "Wrong answer. Right answer is 40\n"
     ]
    }
   ],
   "source": [
    "num1 = random.randint(1,10) #Generate two random numbers\n",
    "num2 = random.randint(1,10)\n",
    "\n",
    "# num1=2\n",
    "# num2=3\n",
    "res=num1*num2 # Finding the product\n",
    "\n",
    "c= eval(input(f\"Enter product of {num1} and {num2}: \")) # Asking the user to enter the product and converting the string to integer\n",
    "# print (c)\n",
    "# print (res)\n",
    " \n",
    "if res==c:# Using if condition for displaying right or wrong answer\n",
    "    print (\"Right answer\")\n",
    "else:\n",
    "    print (f\"Wrong answer. Right answer is {res}\")"
   ]
  },
  {
   "cell_type": "code",
   "execution_count": null,
   "id": "f08d2456",
   "metadata": {},
   "outputs": [],
   "source": []
  },
  {
   "cell_type": "markdown",
   "id": "de25fa55",
   "metadata": {},
   "source": [
    "# Squares of Even/Odd Numbers"
   ]
  },
  {
   "cell_type": "code",
   "execution_count": 78,
   "id": "7a41c2aa",
   "metadata": {},
   "outputs": [
    {
     "name": "stdout",
     "output_type": "stream",
     "text": [
      "Squares of even numbers are as below\n",
      "\n",
      "10000\n",
      "10404\n",
      "10816\n",
      "11236\n",
      "11664\n",
      "12100\n",
      "12544\n",
      "12996\n",
      "13456\n",
      "13924\n",
      "14400\n",
      "14884\n",
      "15376\n",
      "15876\n",
      "16384\n",
      "16900\n",
      "17424\n",
      "17956\n",
      "18496\n",
      "19044\n",
      "19600\n",
      "20164\n",
      "20736\n",
      "21316\n",
      "21904\n",
      "22500\n",
      "23104\n",
      "23716\n",
      "24336\n",
      "24964\n",
      "25600\n",
      "26244\n",
      "26896\n",
      "27556\n",
      "28224\n",
      "28900\n",
      "29584\n",
      "30276\n",
      "30976\n",
      "31684\n",
      "32400\n",
      "33124\n",
      "33856\n",
      "34596\n",
      "35344\n",
      "36100\n",
      "36864\n",
      "37636\n",
      "38416\n",
      "39204\n"
     ]
    }
   ],
   "source": [
    "print (f'Squares of even numbers are as below\\n') # Title\n",
    "for i in range(100,200): # Defining range from 100-200\n",
    "#     print (i)\n",
    "    \n",
    "    if (i%2) ==0: # Condition for even numbers\n",
    "    \n",
    "        print (i*i) # Printing the sum of squares of even numbers\n",
    "#     if i%2==0:\n",
    "        \n",
    "#         print (f'{i**i}\\n')"
   ]
  },
  {
   "cell_type": "code",
   "execution_count": null,
   "id": "8a8db312",
   "metadata": {},
   "outputs": [],
   "source": []
  },
  {
   "cell_type": "markdown",
   "id": "53485923",
   "metadata": {},
   "source": [
    "# Word counter"
   ]
  },
  {
   "cell_type": "code",
   "execution_count": 127,
   "id": "69952911",
   "metadata": {},
   "outputs": [],
   "source": [
    "inptext='This is a sample text. This text will be used to demonstrate the word counter.'\n",
    "enlist = inptext.split() # SPlitting the text"
   ]
  },
  {
   "cell_type": "code",
   "execution_count": 128,
   "id": "db515cf4",
   "metadata": {},
   "outputs": [
    {
     "name": "stdout",
     "output_type": "stream",
     "text": [
      "['This', 'is', 'a', 'sample', 'text.', 'This', 'text', 'will', 'be', 'used', 'to', 'demonstrate', 'the', 'word', 'counter.']\n"
     ]
    }
   ],
   "source": [
    "print (enlist) # Contents of list are displayed"
   ]
  },
  {
   "cell_type": "code",
   "execution_count": 129,
   "id": "6efd4dd2",
   "metadata": {},
   "outputs": [
    {
     "data": {
      "text/plain": [
       "15"
      ]
     },
     "execution_count": 129,
     "metadata": {},
     "output_type": "execute_result"
    }
   ],
   "source": [
    "len(enlist) # Length of the list"
   ]
  },
  {
   "cell_type": "code",
   "execution_count": 141,
   "id": "6070f092",
   "metadata": {},
   "outputs": [
    {
     "name": "stdout",
     "output_type": "stream",
     "text": [
      "This:2\n",
      "is:1\n",
      "a:1\n",
      "sample:1\n",
      "text.:1\n",
      "text:1\n",
      "will:1\n",
      "be:1\n",
      "used:1\n",
      "to:1\n",
      "demonstrate:1\n",
      "the:1\n",
      "word:1\n",
      "counter.:1\n"
     ]
    }
   ],
   "source": [
    "word_count={} # Creation of empty list\n",
    "\n",
    "for i in enlist:\n",
    "#     print (enlist[i])\n",
    "    if i in word_count:  # if 'i' (member in enlist) is present in 'word_count' list\n",
    "        word_count[i]+=1 # The value of the key will be appended by 1\n",
    "    else:\n",
    "        word_count[i]=1 # If not present in the list then the key value pair will be assigned in the list\n",
    "\n",
    "for word,count in word_count.items(): # The items are presented as dictionary\n",
    "    print (f'{word}:{count}')\n",
    "    "
   ]
  },
  {
   "cell_type": "code",
   "execution_count": null,
   "id": "c1ccb67c",
   "metadata": {},
   "outputs": [],
   "source": []
  },
  {
   "cell_type": "markdown",
   "id": "6e7ecf4b",
   "metadata": {},
   "source": [
    "# Check for Palindrome"
   ]
  },
  {
   "cell_type": "code",
   "execution_count": 164,
   "id": "6d1eabeb",
   "metadata": {},
   "outputs": [
    {
     "name": "stdout",
     "output_type": "stream",
     "text": [
      "Enter a string: hindika\n",
      "Palindrome is akidnih\n",
      "String is not a palindrome\n"
     ]
    }
   ],
   "source": [
    "def is_palindrome(string):#Function defining    \n",
    "    \n",
    "#     print (string)\n",
    "    print (f'Palindrome is {string[::-1]}') # Reverse of input string\n",
    "    if string == string[::-1]:\n",
    "        print (\"String is a palindrome\")\n",
    "    else:\n",
    "        print (\"String is not a palindrome\")\n",
    "        \n",
    "str1=input(\"Enter a string: \")\n",
    "is_palindrome(str1) # Calling function"
   ]
  },
  {
   "cell_type": "code",
   "execution_count": null,
   "id": "4941b460",
   "metadata": {},
   "outputs": [],
   "source": []
  },
  {
   "cell_type": "code",
   "execution_count": 156,
   "id": "6ab5e336",
   "metadata": {},
   "outputs": [
    {
     "name": "stdout",
     "output_type": "stream",
     "text": [
      "Enter a string: malayalam\n",
      "palindrome\n"
     ]
    }
   ],
   "source": [
    "\n",
    "# # Another code for the same\n",
    "\n",
    "# str2=input(\"Enter a string: \")\n",
    "# newstr=''\n",
    "\n",
    "# for i in str2:\n",
    "#     newstr=i+newstr\n",
    "    \n",
    "# if newstr==str2:\n",
    "#     print (\"palindrome\")\n",
    "# else:\n",
    "#     print (\"Not palindrome\")"
   ]
  },
  {
   "cell_type": "code",
   "execution_count": null,
   "id": "fe7e3a8b",
   "metadata": {},
   "outputs": [],
   "source": []
  },
  {
   "cell_type": "code",
   "execution_count": null,
   "id": "f3a5aab6",
   "metadata": {},
   "outputs": [],
   "source": []
  },
  {
   "cell_type": "code",
   "execution_count": null,
   "id": "ca5dbbdc",
   "metadata": {},
   "outputs": [],
   "source": []
  },
  {
   "cell_type": "code",
   "execution_count": null,
   "id": "0d1221b0",
   "metadata": {},
   "outputs": [],
   "source": []
  },
  {
   "cell_type": "code",
   "execution_count": null,
   "id": "66a34609",
   "metadata": {},
   "outputs": [],
   "source": []
  },
  {
   "cell_type": "code",
   "execution_count": null,
   "id": "149e05c9",
   "metadata": {},
   "outputs": [],
   "source": []
  }
 ],
 "metadata": {
  "kernelspec": {
   "display_name": "Python 3 (ipykernel)",
   "language": "python",
   "name": "python3"
  },
  "language_info": {
   "codemirror_mode": {
    "name": "ipython",
    "version": 3
   },
   "file_extension": ".py",
   "mimetype": "text/x-python",
   "name": "python",
   "nbconvert_exporter": "python",
   "pygments_lexer": "ipython3",
   "version": "3.9.12"
  }
 },
 "nbformat": 4,
 "nbformat_minor": 5
}
