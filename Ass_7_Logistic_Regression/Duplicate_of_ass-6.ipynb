{
 "cells": [
  {
   "cell_type": "code",
   "execution_count": null,
   "id": "9bd56a5d-c08e-4173-ba6e-91985d43c707",
   "metadata": {},
   "outputs": [],
   "source": []
  },
  {
   "cell_type": "code",
   "execution_count": 3,
   "id": "3d5e0bdb-1f00-473e-9cd8-5288729c61ab",
   "metadata": {},
   "outputs": [],
   "source": [
    "import pandas as pd\n",
    "import numpy as np\n"
   ]
  },
  {
   "cell_type": "code",
   "execution_count": 5,
   "id": "4031434e-40e3-4dfa-9dd6-99cff6cf5816",
   "metadata": {},
   "outputs": [],
   "source": [
    "# Read test data\n",
    "\n",
    "rf=pd.read_csv('Titanic_test.csv')"
   ]
  },
  {
   "cell_type": "code",
   "execution_count": 7,
   "id": "4c4ae090-917f-4164-9fe9-8e393f667608",
   "metadata": {},
   "outputs": [
    {
     "data": {
      "text/html": [
       "<div>\n",
       "<style scoped>\n",
       "    .dataframe tbody tr th:only-of-type {\n",
       "        vertical-align: middle;\n",
       "    }\n",
       "\n",
       "    .dataframe tbody tr th {\n",
       "        vertical-align: top;\n",
       "    }\n",
       "\n",
       "    .dataframe thead th {\n",
       "        text-align: right;\n",
       "    }\n",
       "</style>\n",
       "<table border=\"1\" class=\"dataframe\">\n",
       "  <thead>\n",
       "    <tr style=\"text-align: right;\">\n",
       "      <th></th>\n",
       "      <th>PassengerId</th>\n",
       "      <th>Pclass</th>\n",
       "      <th>Name</th>\n",
       "      <th>Sex</th>\n",
       "      <th>Age</th>\n",
       "      <th>SibSp</th>\n",
       "      <th>Parch</th>\n",
       "      <th>Ticket</th>\n",
       "      <th>Fare</th>\n",
       "      <th>Cabin</th>\n",
       "      <th>Embarked</th>\n",
       "    </tr>\n",
       "  </thead>\n",
       "  <tbody>\n",
       "    <tr>\n",
       "      <th>0</th>\n",
       "      <td>892</td>\n",
       "      <td>3</td>\n",
       "      <td>Kelly, Mr. James</td>\n",
       "      <td>male</td>\n",
       "      <td>34.5</td>\n",
       "      <td>0</td>\n",
       "      <td>0</td>\n",
       "      <td>330911</td>\n",
       "      <td>7.8292</td>\n",
       "      <td>NaN</td>\n",
       "      <td>Q</td>\n",
       "    </tr>\n",
       "    <tr>\n",
       "      <th>1</th>\n",
       "      <td>893</td>\n",
       "      <td>3</td>\n",
       "      <td>Wilkes, Mrs. James (Ellen Needs)</td>\n",
       "      <td>female</td>\n",
       "      <td>47.0</td>\n",
       "      <td>1</td>\n",
       "      <td>0</td>\n",
       "      <td>363272</td>\n",
       "      <td>7.0000</td>\n",
       "      <td>NaN</td>\n",
       "      <td>S</td>\n",
       "    </tr>\n",
       "  </tbody>\n",
       "</table>\n",
       "</div>"
      ],
      "text/plain": [
       "   PassengerId  Pclass                              Name     Sex   Age  SibSp  \\\n",
       "0          892       3                  Kelly, Mr. James    male  34.5      0   \n",
       "1          893       3  Wilkes, Mrs. James (Ellen Needs)  female  47.0      1   \n",
       "\n",
       "   Parch  Ticket    Fare Cabin Embarked  \n",
       "0      0  330911  7.8292   NaN        Q  \n",
       "1      0  363272  7.0000   NaN        S  "
      ]
     },
     "execution_count": 7,
     "metadata": {},
     "output_type": "execute_result"
    }
   ],
   "source": [
    "rf.head(2)"
   ]
  },
  {
   "cell_type": "code",
   "execution_count": 9,
   "id": "9f44dda1-9ab7-44c0-9e11-4734349e4c87",
   "metadata": {},
   "outputs": [
    {
     "data": {
      "text/plain": [
       "(418, 11)"
      ]
     },
     "execution_count": 9,
     "metadata": {},
     "output_type": "execute_result"
    }
   ],
   "source": [
    "rf.shape"
   ]
  },
  {
   "cell_type": "code",
   "execution_count": 11,
   "id": "fb08827a-0b65-4507-b7c3-6c50441c640d",
   "metadata": {},
   "outputs": [],
   "source": [
    "import math\n",
    "\n",
    "#Finding the sum of null values in the columns"
   ]
  },
  {
   "cell_type": "code",
   "execution_count": 15,
   "id": "dacb4ce3-f650-466e-8d74-c1b2f293a84f",
   "metadata": {},
   "outputs": [
    {
     "data": {
      "text/plain": [
       "PassengerId      0\n",
       "Pclass           0\n",
       "Name             0\n",
       "Sex              0\n",
       "Age             86\n",
       "SibSp            0\n",
       "Parch            0\n",
       "Ticket           0\n",
       "Fare             1\n",
       "Cabin          327\n",
       "Embarked         0\n",
       "dtype: int64"
      ]
     },
     "execution_count": 15,
     "metadata": {},
     "output_type": "execute_result"
    }
   ],
   "source": [
    "rf.isnull().sum()"
   ]
  },
  {
   "cell_type": "code",
   "execution_count": 17,
   "id": "c5bb7d38-8b7f-40c7-91bf-b7f09f23cf67",
   "metadata": {},
   "outputs": [],
   "source": [
    "# Datatypes of columns"
   ]
  },
  {
   "cell_type": "code",
   "execution_count": 21,
   "id": "f65fc646-0d42-4780-99cf-b7b0454dd320",
   "metadata": {},
   "outputs": [
    {
     "name": "stdout",
     "output_type": "stream",
     "text": [
      "<class 'pandas.core.frame.DataFrame'>\n",
      "RangeIndex: 418 entries, 0 to 417\n",
      "Data columns (total 11 columns):\n",
      " #   Column       Non-Null Count  Dtype  \n",
      "---  ------       --------------  -----  \n",
      " 0   PassengerId  418 non-null    int64  \n",
      " 1   Pclass       418 non-null    int64  \n",
      " 2   Name         418 non-null    object \n",
      " 3   Sex          418 non-null    object \n",
      " 4   Age          332 non-null    float64\n",
      " 5   SibSp        418 non-null    int64  \n",
      " 6   Parch        418 non-null    int64  \n",
      " 7   Ticket       418 non-null    object \n",
      " 8   Fare         417 non-null    float64\n",
      " 9   Cabin        91 non-null     object \n",
      " 10  Embarked     418 non-null    object \n",
      "dtypes: float64(2), int64(4), object(5)\n",
      "memory usage: 36.1+ KB\n"
     ]
    }
   ],
   "source": [
    "rf.info()"
   ]
  },
  {
   "cell_type": "code",
   "execution_count": 23,
   "id": "319d98f6-3c36-4ffa-9b08-499d2ecfcb48",
   "metadata": {},
   "outputs": [
    {
     "data": {
      "text/plain": [
       "Name\n",
       "Kelly, Mr. James               1\n",
       "Carr, Miss. Jeannie            1\n",
       "Dennis, Mr. William            1\n",
       "Rosblom, Miss. Salli Helena    1\n",
       "Touma, Miss. Maria Youssef     1\n",
       "                              ..\n",
       "Zakarian, Mr. Mapriededer      1\n",
       "Carlsson, Mr. Carl Robert      1\n",
       "Dintcheff, Mr. Valtcho         1\n",
       "Thomas, Mr. Charles P          1\n",
       "Peter, Master. Michael J       1\n",
       "Name: count, Length: 418, dtype: int64"
      ]
     },
     "execution_count": 23,
     "metadata": {},
     "output_type": "execute_result"
    }
   ],
   "source": [
    "rf.Name.value_counts()"
   ]
  },
  {
   "cell_type": "code",
   "execution_count": 25,
   "id": "b19187e1-36cd-4d6e-9dd2-48199f58e8b9",
   "metadata": {},
   "outputs": [
    {
     "data": {
      "text/html": [
       "<div>\n",
       "<style scoped>\n",
       "    .dataframe tbody tr th:only-of-type {\n",
       "        vertical-align: middle;\n",
       "    }\n",
       "\n",
       "    .dataframe tbody tr th {\n",
       "        vertical-align: top;\n",
       "    }\n",
       "\n",
       "    .dataframe thead th {\n",
       "        text-align: right;\n",
       "    }\n",
       "</style>\n",
       "<table border=\"1\" class=\"dataframe\">\n",
       "  <thead>\n",
       "    <tr style=\"text-align: right;\">\n",
       "      <th></th>\n",
       "      <th>PassengerId</th>\n",
       "      <th>Pclass</th>\n",
       "      <th>Sex</th>\n",
       "      <th>Age</th>\n",
       "      <th>SibSp</th>\n",
       "      <th>Parch</th>\n",
       "      <th>Ticket</th>\n",
       "      <th>Fare</th>\n",
       "      <th>Cabin</th>\n",
       "      <th>Embarked</th>\n",
       "    </tr>\n",
       "    <tr>\n",
       "      <th>Name</th>\n",
       "      <th></th>\n",
       "      <th></th>\n",
       "      <th></th>\n",
       "      <th></th>\n",
       "      <th></th>\n",
       "      <th></th>\n",
       "      <th></th>\n",
       "      <th></th>\n",
       "      <th></th>\n",
       "      <th></th>\n",
       "    </tr>\n",
       "  </thead>\n",
       "  <tbody>\n",
       "    <tr>\n",
       "      <th>Kelly, Mr. James</th>\n",
       "      <td>892</td>\n",
       "      <td>3</td>\n",
       "      <td>male</td>\n",
       "      <td>34.5</td>\n",
       "      <td>0</td>\n",
       "      <td>0</td>\n",
       "      <td>330911</td>\n",
       "      <td>7.8292</td>\n",
       "      <td>NaN</td>\n",
       "      <td>Q</td>\n",
       "    </tr>\n",
       "    <tr>\n",
       "      <th>Wilkes, Mrs. James (Ellen Needs)</th>\n",
       "      <td>893</td>\n",
       "      <td>3</td>\n",
       "      <td>female</td>\n",
       "      <td>47.0</td>\n",
       "      <td>1</td>\n",
       "      <td>0</td>\n",
       "      <td>363272</td>\n",
       "      <td>7.0000</td>\n",
       "      <td>NaN</td>\n",
       "      <td>S</td>\n",
       "    </tr>\n",
       "    <tr>\n",
       "      <th>Myles, Mr. Thomas Francis</th>\n",
       "      <td>894</td>\n",
       "      <td>2</td>\n",
       "      <td>male</td>\n",
       "      <td>62.0</td>\n",
       "      <td>0</td>\n",
       "      <td>0</td>\n",
       "      <td>240276</td>\n",
       "      <td>9.6875</td>\n",
       "      <td>NaN</td>\n",
       "      <td>Q</td>\n",
       "    </tr>\n",
       "    <tr>\n",
       "      <th>Wirz, Mr. Albert</th>\n",
       "      <td>895</td>\n",
       "      <td>3</td>\n",
       "      <td>male</td>\n",
       "      <td>27.0</td>\n",
       "      <td>0</td>\n",
       "      <td>0</td>\n",
       "      <td>315154</td>\n",
       "      <td>8.6625</td>\n",
       "      <td>NaN</td>\n",
       "      <td>S</td>\n",
       "    </tr>\n",
       "    <tr>\n",
       "      <th>Hirvonen, Mrs. Alexander (Helga E Lindqvist)</th>\n",
       "      <td>896</td>\n",
       "      <td>3</td>\n",
       "      <td>female</td>\n",
       "      <td>22.0</td>\n",
       "      <td>1</td>\n",
       "      <td>1</td>\n",
       "      <td>3101298</td>\n",
       "      <td>12.2875</td>\n",
       "      <td>NaN</td>\n",
       "      <td>S</td>\n",
       "    </tr>\n",
       "    <tr>\n",
       "      <th>...</th>\n",
       "      <td>...</td>\n",
       "      <td>...</td>\n",
       "      <td>...</td>\n",
       "      <td>...</td>\n",
       "      <td>...</td>\n",
       "      <td>...</td>\n",
       "      <td>...</td>\n",
       "      <td>...</td>\n",
       "      <td>...</td>\n",
       "      <td>...</td>\n",
       "    </tr>\n",
       "    <tr>\n",
       "      <th>Spector, Mr. Woolf</th>\n",
       "      <td>1305</td>\n",
       "      <td>3</td>\n",
       "      <td>male</td>\n",
       "      <td>NaN</td>\n",
       "      <td>0</td>\n",
       "      <td>0</td>\n",
       "      <td>A.5. 3236</td>\n",
       "      <td>8.0500</td>\n",
       "      <td>NaN</td>\n",
       "      <td>S</td>\n",
       "    </tr>\n",
       "    <tr>\n",
       "      <th>Oliva y Ocana, Dona. Fermina</th>\n",
       "      <td>1306</td>\n",
       "      <td>1</td>\n",
       "      <td>female</td>\n",
       "      <td>39.0</td>\n",
       "      <td>0</td>\n",
       "      <td>0</td>\n",
       "      <td>PC 17758</td>\n",
       "      <td>108.9000</td>\n",
       "      <td>C105</td>\n",
       "      <td>C</td>\n",
       "    </tr>\n",
       "    <tr>\n",
       "      <th>Saether, Mr. Simon Sivertsen</th>\n",
       "      <td>1307</td>\n",
       "      <td>3</td>\n",
       "      <td>male</td>\n",
       "      <td>38.5</td>\n",
       "      <td>0</td>\n",
       "      <td>0</td>\n",
       "      <td>SOTON/O.Q. 3101262</td>\n",
       "      <td>7.2500</td>\n",
       "      <td>NaN</td>\n",
       "      <td>S</td>\n",
       "    </tr>\n",
       "    <tr>\n",
       "      <th>Ware, Mr. Frederick</th>\n",
       "      <td>1308</td>\n",
       "      <td>3</td>\n",
       "      <td>male</td>\n",
       "      <td>NaN</td>\n",
       "      <td>0</td>\n",
       "      <td>0</td>\n",
       "      <td>359309</td>\n",
       "      <td>8.0500</td>\n",
       "      <td>NaN</td>\n",
       "      <td>S</td>\n",
       "    </tr>\n",
       "    <tr>\n",
       "      <th>Peter, Master. Michael J</th>\n",
       "      <td>1309</td>\n",
       "      <td>3</td>\n",
       "      <td>male</td>\n",
       "      <td>NaN</td>\n",
       "      <td>1</td>\n",
       "      <td>1</td>\n",
       "      <td>2668</td>\n",
       "      <td>22.3583</td>\n",
       "      <td>NaN</td>\n",
       "      <td>C</td>\n",
       "    </tr>\n",
       "  </tbody>\n",
       "</table>\n",
       "<p>418 rows × 10 columns</p>\n",
       "</div>"
      ],
      "text/plain": [
       "                                              PassengerId  Pclass     Sex  \\\n",
       "Name                                                                        \n",
       "Kelly, Mr. James                                      892       3    male   \n",
       "Wilkes, Mrs. James (Ellen Needs)                      893       3  female   \n",
       "Myles, Mr. Thomas Francis                             894       2    male   \n",
       "Wirz, Mr. Albert                                      895       3    male   \n",
       "Hirvonen, Mrs. Alexander (Helga E Lindqvist)          896       3  female   \n",
       "...                                                   ...     ...     ...   \n",
       "Spector, Mr. Woolf                                   1305       3    male   \n",
       "Oliva y Ocana, Dona. Fermina                         1306       1  female   \n",
       "Saether, Mr. Simon Sivertsen                         1307       3    male   \n",
       "Ware, Mr. Frederick                                  1308       3    male   \n",
       "Peter, Master. Michael J                             1309       3    male   \n",
       "\n",
       "                                               Age  SibSp  Parch  \\\n",
       "Name                                                               \n",
       "Kelly, Mr. James                              34.5      0      0   \n",
       "Wilkes, Mrs. James (Ellen Needs)              47.0      1      0   \n",
       "Myles, Mr. Thomas Francis                     62.0      0      0   \n",
       "Wirz, Mr. Albert                              27.0      0      0   \n",
       "Hirvonen, Mrs. Alexander (Helga E Lindqvist)  22.0      1      1   \n",
       "...                                            ...    ...    ...   \n",
       "Spector, Mr. Woolf                             NaN      0      0   \n",
       "Oliva y Ocana, Dona. Fermina                  39.0      0      0   \n",
       "Saether, Mr. Simon Sivertsen                  38.5      0      0   \n",
       "Ware, Mr. Frederick                            NaN      0      0   \n",
       "Peter, Master. Michael J                       NaN      1      1   \n",
       "\n",
       "                                                          Ticket      Fare  \\\n",
       "Name                                                                         \n",
       "Kelly, Mr. James                                          330911    7.8292   \n",
       "Wilkes, Mrs. James (Ellen Needs)                          363272    7.0000   \n",
       "Myles, Mr. Thomas Francis                                 240276    9.6875   \n",
       "Wirz, Mr. Albert                                          315154    8.6625   \n",
       "Hirvonen, Mrs. Alexander (Helga E Lindqvist)             3101298   12.2875   \n",
       "...                                                          ...       ...   \n",
       "Spector, Mr. Woolf                                     A.5. 3236    8.0500   \n",
       "Oliva y Ocana, Dona. Fermina                            PC 17758  108.9000   \n",
       "Saether, Mr. Simon Sivertsen                  SOTON/O.Q. 3101262    7.2500   \n",
       "Ware, Mr. Frederick                                       359309    8.0500   \n",
       "Peter, Master. Michael J                                    2668   22.3583   \n",
       "\n",
       "                                             Cabin Embarked  \n",
       "Name                                                         \n",
       "Kelly, Mr. James                               NaN        Q  \n",
       "Wilkes, Mrs. James (Ellen Needs)               NaN        S  \n",
       "Myles, Mr. Thomas Francis                      NaN        Q  \n",
       "Wirz, Mr. Albert                               NaN        S  \n",
       "Hirvonen, Mrs. Alexander (Helga E Lindqvist)   NaN        S  \n",
       "...                                            ...      ...  \n",
       "Spector, Mr. Woolf                             NaN        S  \n",
       "Oliva y Ocana, Dona. Fermina                  C105        C  \n",
       "Saether, Mr. Simon Sivertsen                   NaN        S  \n",
       "Ware, Mr. Frederick                            NaN        S  \n",
       "Peter, Master. Michael J                       NaN        C  \n",
       "\n",
       "[418 rows x 10 columns]"
      ]
     },
     "execution_count": 25,
     "metadata": {},
     "output_type": "execute_result"
    }
   ],
   "source": [
    "# Since name column is categorical and with unique values, this is changed into index\n",
    "\n",
    "rf_new=rf.set_index('Name')\n",
    "rf_new"
   ]
  },
  {
   "cell_type": "code",
   "execution_count": 27,
   "id": "4de4444b-7e2d-4a44-9875-ab1f823cc786",
   "metadata": {},
   "outputs": [
    {
     "data": {
      "text/plain": [
       "Sex\n",
       "male      266\n",
       "female    152\n",
       "Name: count, dtype: int64"
      ]
     },
     "execution_count": 27,
     "metadata": {},
     "output_type": "execute_result"
    }
   ],
   "source": [
    "rf_new.Sex.value_counts()"
   ]
  },
  {
   "cell_type": "code",
   "execution_count": 31,
   "id": "02995263-5503-484f-ab42-10910a523fbb",
   "metadata": {},
   "outputs": [
    {
     "data": {
      "text/html": [
       "<div>\n",
       "<style scoped>\n",
       "    .dataframe tbody tr th:only-of-type {\n",
       "        vertical-align: middle;\n",
       "    }\n",
       "\n",
       "    .dataframe tbody tr th {\n",
       "        vertical-align: top;\n",
       "    }\n",
       "\n",
       "    .dataframe thead th {\n",
       "        text-align: right;\n",
       "    }\n",
       "</style>\n",
       "<table border=\"1\" class=\"dataframe\">\n",
       "  <thead>\n",
       "    <tr style=\"text-align: right;\">\n",
       "      <th></th>\n",
       "      <th>PassengerId</th>\n",
       "      <th>Pclass</th>\n",
       "      <th>Sex</th>\n",
       "      <th>Age</th>\n",
       "      <th>SibSp</th>\n",
       "      <th>Parch</th>\n",
       "      <th>Ticket</th>\n",
       "      <th>Fare</th>\n",
       "      <th>Cabin</th>\n",
       "      <th>Embarked</th>\n",
       "    </tr>\n",
       "    <tr>\n",
       "      <th>Name</th>\n",
       "      <th></th>\n",
       "      <th></th>\n",
       "      <th></th>\n",
       "      <th></th>\n",
       "      <th></th>\n",
       "      <th></th>\n",
       "      <th></th>\n",
       "      <th></th>\n",
       "      <th></th>\n",
       "      <th></th>\n",
       "    </tr>\n",
       "  </thead>\n",
       "  <tbody>\n",
       "  </tbody>\n",
       "</table>\n",
       "</div>"
      ],
      "text/plain": [
       "Empty DataFrame\n",
       "Columns: [PassengerId, Pclass, Sex, Age, SibSp, Parch, Ticket, Fare, Cabin, Embarked]\n",
       "Index: []"
      ]
     },
     "execution_count": 31,
     "metadata": {},
     "output_type": "execute_result"
    }
   ],
   "source": [
    "rf_new[rf_new.duplicated()]"
   ]
  },
  {
   "cell_type": "code",
   "execution_count": 35,
   "id": "4d4be42e-0dc7-4694-8a04-c47afbd1da59",
   "metadata": {},
   "outputs": [
    {
     "data": {
      "text/plain": [
       "78.22966507177034"
      ]
     },
     "execution_count": 35,
     "metadata": {},
     "output_type": "execute_result"
    }
   ],
   "source": [
    " (327/418 )* 100"
   ]
  },
  {
   "cell_type": "code",
   "execution_count": null,
   "id": "65c9b7cb-d1a0-48cd-ac90-d2f08e7798b4",
   "metadata": {},
   "outputs": [],
   "source": [
    "# Cabin column can be removed as it consists of null values more than 40%"
   ]
  },
  {
   "cell_type": "code",
   "execution_count": 37,
   "id": "34394912-05d1-4281-a7f8-7aaa3c96012e",
   "metadata": {},
   "outputs": [],
   "source": [
    "rf_new=rf_new.drop(['Cabin'],axis=1)"
   ]
  },
  {
   "cell_type": "code",
   "execution_count": 39,
   "id": "878e1c8d-c723-4d93-be9b-fb5fc5307cf3",
   "metadata": {},
   "outputs": [
    {
     "name": "stdout",
     "output_type": "stream",
     "text": [
      "<class 'pandas.core.frame.DataFrame'>\n",
      "Index: 418 entries, Kelly, Mr. James to Peter, Master. Michael J\n",
      "Data columns (total 9 columns):\n",
      " #   Column       Non-Null Count  Dtype  \n",
      "---  ------       --------------  -----  \n",
      " 0   PassengerId  418 non-null    int64  \n",
      " 1   Pclass       418 non-null    int64  \n",
      " 2   Sex          418 non-null    object \n",
      " 3   Age          332 non-null    float64\n",
      " 4   SibSp        418 non-null    int64  \n",
      " 5   Parch        418 non-null    int64  \n",
      " 6   Ticket       418 non-null    object \n",
      " 7   Fare         417 non-null    float64\n",
      " 8   Embarked     418 non-null    object \n",
      "dtypes: float64(2), int64(4), object(3)\n",
      "memory usage: 48.8+ KB\n"
     ]
    }
   ],
   "source": [
    "rf_new.info()"
   ]
  },
  {
   "cell_type": "code",
   "execution_count": null,
   "id": "efedc9e6-4fbd-4abe-9c05-b8cf50666fbc",
   "metadata": {},
   "outputs": [],
   "source": [
    "# One hot encoding of 'Sex' and 'Embarked' columns"
   ]
  },
  {
   "cell_type": "code",
   "execution_count": 41,
   "id": "555902c9-2da7-47d6-9474-2710fd2d0161",
   "metadata": {},
   "outputs": [],
   "source": [
    "rf_new_1=pd.get_dummies(rf_new,columns=['Sex'])"
   ]
  },
  {
   "cell_type": "code",
   "execution_count": 43,
   "id": "002767ae-f689-4b51-9edf-c4b4a8736119",
   "metadata": {},
   "outputs": [
    {
     "data": {
      "text/html": [
       "<div>\n",
       "<style scoped>\n",
       "    .dataframe tbody tr th:only-of-type {\n",
       "        vertical-align: middle;\n",
       "    }\n",
       "\n",
       "    .dataframe tbody tr th {\n",
       "        vertical-align: top;\n",
       "    }\n",
       "\n",
       "    .dataframe thead th {\n",
       "        text-align: right;\n",
       "    }\n",
       "</style>\n",
       "<table border=\"1\" class=\"dataframe\">\n",
       "  <thead>\n",
       "    <tr style=\"text-align: right;\">\n",
       "      <th></th>\n",
       "      <th>PassengerId</th>\n",
       "      <th>Pclass</th>\n",
       "      <th>Age</th>\n",
       "      <th>SibSp</th>\n",
       "      <th>Parch</th>\n",
       "      <th>Ticket</th>\n",
       "      <th>Fare</th>\n",
       "      <th>Embarked</th>\n",
       "      <th>Sex_female</th>\n",
       "      <th>Sex_male</th>\n",
       "    </tr>\n",
       "    <tr>\n",
       "      <th>Name</th>\n",
       "      <th></th>\n",
       "      <th></th>\n",
       "      <th></th>\n",
       "      <th></th>\n",
       "      <th></th>\n",
       "      <th></th>\n",
       "      <th></th>\n",
       "      <th></th>\n",
       "      <th></th>\n",
       "      <th></th>\n",
       "    </tr>\n",
       "  </thead>\n",
       "  <tbody>\n",
       "    <tr>\n",
       "      <th>Kelly, Mr. James</th>\n",
       "      <td>892</td>\n",
       "      <td>3</td>\n",
       "      <td>34.5</td>\n",
       "      <td>0</td>\n",
       "      <td>0</td>\n",
       "      <td>330911</td>\n",
       "      <td>7.8292</td>\n",
       "      <td>Q</td>\n",
       "      <td>False</td>\n",
       "      <td>True</td>\n",
       "    </tr>\n",
       "    <tr>\n",
       "      <th>Wilkes, Mrs. James (Ellen Needs)</th>\n",
       "      <td>893</td>\n",
       "      <td>3</td>\n",
       "      <td>47.0</td>\n",
       "      <td>1</td>\n",
       "      <td>0</td>\n",
       "      <td>363272</td>\n",
       "      <td>7.0000</td>\n",
       "      <td>S</td>\n",
       "      <td>True</td>\n",
       "      <td>False</td>\n",
       "    </tr>\n",
       "  </tbody>\n",
       "</table>\n",
       "</div>"
      ],
      "text/plain": [
       "                                  PassengerId  Pclass   Age  SibSp  Parch  \\\n",
       "Name                                                                        \n",
       "Kelly, Mr. James                          892       3  34.5      0      0   \n",
       "Wilkes, Mrs. James (Ellen Needs)          893       3  47.0      1      0   \n",
       "\n",
       "                                  Ticket    Fare Embarked  Sex_female  \\\n",
       "Name                                                                    \n",
       "Kelly, Mr. James                  330911  7.8292        Q       False   \n",
       "Wilkes, Mrs. James (Ellen Needs)  363272  7.0000        S        True   \n",
       "\n",
       "                                  Sex_male  \n",
       "Name                                        \n",
       "Kelly, Mr. James                      True  \n",
       "Wilkes, Mrs. James (Ellen Needs)     False  "
      ]
     },
     "execution_count": 43,
     "metadata": {},
     "output_type": "execute_result"
    }
   ],
   "source": [
    "rf_new_1.head(2)"
   ]
  },
  {
   "cell_type": "code",
   "execution_count": 45,
   "id": "9a40eca9-7d64-430e-8a81-160b9e1b61c7",
   "metadata": {},
   "outputs": [],
   "source": [
    "rf_new_1[['Sex_female','Sex_male']]=rf_new_1[['Sex_female','Sex_male']].astype(int)"
   ]
  },
  {
   "cell_type": "code",
   "execution_count": 47,
   "id": "f5aeb3d2-adb3-42fc-a880-155d7adc4eb1",
   "metadata": {},
   "outputs": [
    {
     "data": {
      "text/html": [
       "<div>\n",
       "<style scoped>\n",
       "    .dataframe tbody tr th:only-of-type {\n",
       "        vertical-align: middle;\n",
       "    }\n",
       "\n",
       "    .dataframe tbody tr th {\n",
       "        vertical-align: top;\n",
       "    }\n",
       "\n",
       "    .dataframe thead th {\n",
       "        text-align: right;\n",
       "    }\n",
       "</style>\n",
       "<table border=\"1\" class=\"dataframe\">\n",
       "  <thead>\n",
       "    <tr style=\"text-align: right;\">\n",
       "      <th></th>\n",
       "      <th>PassengerId</th>\n",
       "      <th>Pclass</th>\n",
       "      <th>Age</th>\n",
       "      <th>SibSp</th>\n",
       "      <th>Parch</th>\n",
       "      <th>Ticket</th>\n",
       "      <th>Fare</th>\n",
       "      <th>Embarked</th>\n",
       "      <th>Sex_female</th>\n",
       "      <th>Sex_male</th>\n",
       "    </tr>\n",
       "    <tr>\n",
       "      <th>Name</th>\n",
       "      <th></th>\n",
       "      <th></th>\n",
       "      <th></th>\n",
       "      <th></th>\n",
       "      <th></th>\n",
       "      <th></th>\n",
       "      <th></th>\n",
       "      <th></th>\n",
       "      <th></th>\n",
       "      <th></th>\n",
       "    </tr>\n",
       "  </thead>\n",
       "  <tbody>\n",
       "    <tr>\n",
       "      <th>Kelly, Mr. James</th>\n",
       "      <td>892</td>\n",
       "      <td>3</td>\n",
       "      <td>34.5</td>\n",
       "      <td>0</td>\n",
       "      <td>0</td>\n",
       "      <td>330911</td>\n",
       "      <td>7.8292</td>\n",
       "      <td>Q</td>\n",
       "      <td>0</td>\n",
       "      <td>1</td>\n",
       "    </tr>\n",
       "  </tbody>\n",
       "</table>\n",
       "</div>"
      ],
      "text/plain": [
       "                  PassengerId  Pclass   Age  SibSp  Parch  Ticket    Fare  \\\n",
       "Name                                                                        \n",
       "Kelly, Mr. James          892       3  34.5      0      0  330911  7.8292   \n",
       "\n",
       "                 Embarked  Sex_female  Sex_male  \n",
       "Name                                             \n",
       "Kelly, Mr. James        Q           0         1  "
      ]
     },
     "execution_count": 47,
     "metadata": {},
     "output_type": "execute_result"
    }
   ],
   "source": [
    "rf_new_1.head(1) #Conversion to numerical"
   ]
  },
  {
   "cell_type": "code",
   "execution_count": 49,
   "id": "b72d0821-da42-408e-b2a6-e497ac838f2a",
   "metadata": {},
   "outputs": [],
   "source": [
    "rf_new_1=pd.get_dummies(rf_new_1,columns=['Embarked'])"
   ]
  },
  {
   "cell_type": "code",
   "execution_count": 51,
   "id": "9d7deadc-5c4e-42a3-911f-754ff982eeee",
   "metadata": {},
   "outputs": [
    {
     "data": {
      "text/html": [
       "<div>\n",
       "<style scoped>\n",
       "    .dataframe tbody tr th:only-of-type {\n",
       "        vertical-align: middle;\n",
       "    }\n",
       "\n",
       "    .dataframe tbody tr th {\n",
       "        vertical-align: top;\n",
       "    }\n",
       "\n",
       "    .dataframe thead th {\n",
       "        text-align: right;\n",
       "    }\n",
       "</style>\n",
       "<table border=\"1\" class=\"dataframe\">\n",
       "  <thead>\n",
       "    <tr style=\"text-align: right;\">\n",
       "      <th></th>\n",
       "      <th>PassengerId</th>\n",
       "      <th>Pclass</th>\n",
       "      <th>Age</th>\n",
       "      <th>SibSp</th>\n",
       "      <th>Parch</th>\n",
       "      <th>Ticket</th>\n",
       "      <th>Fare</th>\n",
       "      <th>Sex_female</th>\n",
       "      <th>Sex_male</th>\n",
       "      <th>Embarked_C</th>\n",
       "      <th>Embarked_Q</th>\n",
       "      <th>Embarked_S</th>\n",
       "    </tr>\n",
       "    <tr>\n",
       "      <th>Name</th>\n",
       "      <th></th>\n",
       "      <th></th>\n",
       "      <th></th>\n",
       "      <th></th>\n",
       "      <th></th>\n",
       "      <th></th>\n",
       "      <th></th>\n",
       "      <th></th>\n",
       "      <th></th>\n",
       "      <th></th>\n",
       "      <th></th>\n",
       "      <th></th>\n",
       "    </tr>\n",
       "  </thead>\n",
       "  <tbody>\n",
       "    <tr>\n",
       "      <th>Kelly, Mr. James</th>\n",
       "      <td>892</td>\n",
       "      <td>3</td>\n",
       "      <td>34.5</td>\n",
       "      <td>0</td>\n",
       "      <td>0</td>\n",
       "      <td>330911</td>\n",
       "      <td>7.8292</td>\n",
       "      <td>0</td>\n",
       "      <td>1</td>\n",
       "      <td>False</td>\n",
       "      <td>True</td>\n",
       "      <td>False</td>\n",
       "    </tr>\n",
       "  </tbody>\n",
       "</table>\n",
       "</div>"
      ],
      "text/plain": [
       "                  PassengerId  Pclass   Age  SibSp  Parch  Ticket    Fare  \\\n",
       "Name                                                                        \n",
       "Kelly, Mr. James          892       3  34.5      0      0  330911  7.8292   \n",
       "\n",
       "                  Sex_female  Sex_male  Embarked_C  Embarked_Q  Embarked_S  \n",
       "Name                                                                        \n",
       "Kelly, Mr. James           0         1       False        True       False  "
      ]
     },
     "execution_count": 51,
     "metadata": {},
     "output_type": "execute_result"
    }
   ],
   "source": [
    "rf_new_1.head(1)"
   ]
  },
  {
   "cell_type": "code",
   "execution_count": 53,
   "id": "1da229cc-b8c4-4203-a070-fa74b0289872",
   "metadata": {},
   "outputs": [],
   "source": [
    "# Conversion to numerical\n",
    "\n",
    "rf_new_1[['Embarked_C','Embarked_Q','Embarked_S']]=rf_new_1[['Embarked_C','Embarked_Q','Embarked_S']].astype(int)"
   ]
  },
  {
   "cell_type": "code",
   "execution_count": 59,
   "id": "7e81bd07-5164-4671-a508-27d8e281694a",
   "metadata": {},
   "outputs": [
    {
     "data": {
      "text/html": [
       "<div>\n",
       "<style scoped>\n",
       "    .dataframe tbody tr th:only-of-type {\n",
       "        vertical-align: middle;\n",
       "    }\n",
       "\n",
       "    .dataframe tbody tr th {\n",
       "        vertical-align: top;\n",
       "    }\n",
       "\n",
       "    .dataframe thead th {\n",
       "        text-align: right;\n",
       "    }\n",
       "</style>\n",
       "<table border=\"1\" class=\"dataframe\">\n",
       "  <thead>\n",
       "    <tr style=\"text-align: right;\">\n",
       "      <th></th>\n",
       "      <th>PassengerId</th>\n",
       "      <th>Pclass</th>\n",
       "      <th>Age</th>\n",
       "      <th>SibSp</th>\n",
       "      <th>Parch</th>\n",
       "      <th>Ticket</th>\n",
       "      <th>Fare</th>\n",
       "      <th>Sex_female</th>\n",
       "      <th>Sex_male</th>\n",
       "      <th>Embarked_C</th>\n",
       "      <th>Embarked_Q</th>\n",
       "      <th>Embarked_S</th>\n",
       "    </tr>\n",
       "    <tr>\n",
       "      <th>Name</th>\n",
       "      <th></th>\n",
       "      <th></th>\n",
       "      <th></th>\n",
       "      <th></th>\n",
       "      <th></th>\n",
       "      <th></th>\n",
       "      <th></th>\n",
       "      <th></th>\n",
       "      <th></th>\n",
       "      <th></th>\n",
       "      <th></th>\n",
       "      <th></th>\n",
       "    </tr>\n",
       "  </thead>\n",
       "  <tbody>\n",
       "    <tr>\n",
       "      <th>Kelly, Mr. James</th>\n",
       "      <td>892</td>\n",
       "      <td>3</td>\n",
       "      <td>34.5</td>\n",
       "      <td>0</td>\n",
       "      <td>0</td>\n",
       "      <td>330911</td>\n",
       "      <td>7.8292</td>\n",
       "      <td>0</td>\n",
       "      <td>1</td>\n",
       "      <td>0</td>\n",
       "      <td>1</td>\n",
       "      <td>0</td>\n",
       "    </tr>\n",
       "    <tr>\n",
       "      <th>Wilkes, Mrs. James (Ellen Needs)</th>\n",
       "      <td>893</td>\n",
       "      <td>3</td>\n",
       "      <td>47.0</td>\n",
       "      <td>1</td>\n",
       "      <td>0</td>\n",
       "      <td>363272</td>\n",
       "      <td>7.0000</td>\n",
       "      <td>1</td>\n",
       "      <td>0</td>\n",
       "      <td>0</td>\n",
       "      <td>0</td>\n",
       "      <td>1</td>\n",
       "    </tr>\n",
       "    <tr>\n",
       "      <th>Myles, Mr. Thomas Francis</th>\n",
       "      <td>894</td>\n",
       "      <td>2</td>\n",
       "      <td>62.0</td>\n",
       "      <td>0</td>\n",
       "      <td>0</td>\n",
       "      <td>240276</td>\n",
       "      <td>9.6875</td>\n",
       "      <td>0</td>\n",
       "      <td>1</td>\n",
       "      <td>0</td>\n",
       "      <td>1</td>\n",
       "      <td>0</td>\n",
       "    </tr>\n",
       "  </tbody>\n",
       "</table>\n",
       "</div>"
      ],
      "text/plain": [
       "                                  PassengerId  Pclass   Age  SibSp  Parch  \\\n",
       "Name                                                                        \n",
       "Kelly, Mr. James                          892       3  34.5      0      0   \n",
       "Wilkes, Mrs. James (Ellen Needs)          893       3  47.0      1      0   \n",
       "Myles, Mr. Thomas Francis                 894       2  62.0      0      0   \n",
       "\n",
       "                                  Ticket    Fare  Sex_female  Sex_male  \\\n",
       "Name                                                                     \n",
       "Kelly, Mr. James                  330911  7.8292           0         1   \n",
       "Wilkes, Mrs. James (Ellen Needs)  363272  7.0000           1         0   \n",
       "Myles, Mr. Thomas Francis         240276  9.6875           0         1   \n",
       "\n",
       "                                  Embarked_C  Embarked_Q  Embarked_S  \n",
       "Name                                                                  \n",
       "Kelly, Mr. James                           0           1           0  \n",
       "Wilkes, Mrs. James (Ellen Needs)           0           0           1  \n",
       "Myles, Mr. Thomas Francis                  0           1           0  "
      ]
     },
     "execution_count": 59,
     "metadata": {},
     "output_type": "execute_result"
    }
   ],
   "source": [
    "rf_new_1.head(3)"
   ]
  },
  {
   "cell_type": "code",
   "execution_count": 65,
   "id": "dc3acc50-b5cb-425c-b03d-aaf339c47c17",
   "metadata": {},
   "outputs": [
    {
     "data": {
      "text/plain": [
       "<bound method IndexOpsMixin.value_counts of Name\n",
       "Kelly, Mr. James                                            330911\n",
       "Wilkes, Mrs. James (Ellen Needs)                            363272\n",
       "Myles, Mr. Thomas Francis                                   240276\n",
       "Wirz, Mr. Albert                                            315154\n",
       "Hirvonen, Mrs. Alexander (Helga E Lindqvist)               3101298\n",
       "                                                       ...        \n",
       "Spector, Mr. Woolf                                       A.5. 3236\n",
       "Oliva y Ocana, Dona. Fermina                              PC 17758\n",
       "Saether, Mr. Simon Sivertsen                    SOTON/O.Q. 3101262\n",
       "Ware, Mr. Frederick                                         359309\n",
       "Peter, Master. Michael J                                      2668\n",
       "Name: Ticket, Length: 418, dtype: object>"
      ]
     },
     "execution_count": 65,
     "metadata": {},
     "output_type": "execute_result"
    }
   ],
   "source": [
    "rf_new_1['Ticket'].value_counts"
   ]
  },
  {
   "cell_type": "code",
   "execution_count": 67,
   "id": "07e31800-06bf-4885-a12c-938d00a36092",
   "metadata": {},
   "outputs": [
    {
     "data": {
      "text/plain": [
       "<bound method IndexOpsMixin.nunique of Name\n",
       "Kelly, Mr. James                                            330911\n",
       "Wilkes, Mrs. James (Ellen Needs)                            363272\n",
       "Myles, Mr. Thomas Francis                                   240276\n",
       "Wirz, Mr. Albert                                            315154\n",
       "Hirvonen, Mrs. Alexander (Helga E Lindqvist)               3101298\n",
       "                                                       ...        \n",
       "Spector, Mr. Woolf                                       A.5. 3236\n",
       "Oliva y Ocana, Dona. Fermina                              PC 17758\n",
       "Saether, Mr. Simon Sivertsen                    SOTON/O.Q. 3101262\n",
       "Ware, Mr. Frederick                                         359309\n",
       "Peter, Master. Michael J                                      2668\n",
       "Name: Ticket, Length: 418, dtype: object>"
      ]
     },
     "execution_count": 67,
     "metadata": {},
     "output_type": "execute_result"
    }
   ],
   "source": [
    "rf_new_1['Ticket'].nunique"
   ]
  },
  {
   "cell_type": "code",
   "execution_count": null,
   "id": "a24001fb-b266-4e8e-b4d5-be1e28637613",
   "metadata": {},
   "outputs": [],
   "source": [
    "# Column ' Ticket' has many unique values, hence high cardinality with object datatype.\n",
    "# Data conversion using combined frequency encoding and kfold target encoding"
   ]
  },
  {
   "cell_type": "code",
   "execution_count": 69,
   "id": "86f9cd0a-fcc9-43e2-a0b6-a0725e579150",
   "metadata": {},
   "outputs": [],
   "source": [
    "from sklearn.model_selection import KFold"
   ]
  },
  {
   "cell_type": "code",
   "execution_count": null,
   "id": "11f12bbb-b362-4cec-ba02-b7f69fa65c42",
   "metadata": {},
   "outputs": [],
   "source": [
    "# Frequency encoding"
   ]
  },
  {
   "cell_type": "code",
   "execution_count": 73,
   "id": "84332bb4-59be-446e-b605-9799a85b58cd",
   "metadata": {},
   "outputs": [],
   "source": [
    "frequency_encoding_test= rf_new_1['Ticket'].value_counts().to_dict()\n",
    "rf_new_1['Frequency']=rf_new_1['Ticket'].map(frequency_encoding_test)"
   ]
  },
  {
   "cell_type": "code",
   "execution_count": 75,
   "id": "3c39e933-c718-4f24-9669-602304e75245",
   "metadata": {},
   "outputs": [
    {
     "data": {
      "text/html": [
       "<div>\n",
       "<style scoped>\n",
       "    .dataframe tbody tr th:only-of-type {\n",
       "        vertical-align: middle;\n",
       "    }\n",
       "\n",
       "    .dataframe tbody tr th {\n",
       "        vertical-align: top;\n",
       "    }\n",
       "\n",
       "    .dataframe thead th {\n",
       "        text-align: right;\n",
       "    }\n",
       "</style>\n",
       "<table border=\"1\" class=\"dataframe\">\n",
       "  <thead>\n",
       "    <tr style=\"text-align: right;\">\n",
       "      <th></th>\n",
       "      <th>PassengerId</th>\n",
       "      <th>Pclass</th>\n",
       "      <th>Age</th>\n",
       "      <th>SibSp</th>\n",
       "      <th>Parch</th>\n",
       "      <th>Ticket</th>\n",
       "      <th>Fare</th>\n",
       "      <th>Sex_female</th>\n",
       "      <th>Sex_male</th>\n",
       "      <th>Embarked_C</th>\n",
       "      <th>Embarked_Q</th>\n",
       "      <th>Embarked_S</th>\n",
       "      <th>Frequency</th>\n",
       "    </tr>\n",
       "    <tr>\n",
       "      <th>Name</th>\n",
       "      <th></th>\n",
       "      <th></th>\n",
       "      <th></th>\n",
       "      <th></th>\n",
       "      <th></th>\n",
       "      <th></th>\n",
       "      <th></th>\n",
       "      <th></th>\n",
       "      <th></th>\n",
       "      <th></th>\n",
       "      <th></th>\n",
       "      <th></th>\n",
       "      <th></th>\n",
       "    </tr>\n",
       "  </thead>\n",
       "  <tbody>\n",
       "    <tr>\n",
       "      <th>Kelly, Mr. James</th>\n",
       "      <td>892</td>\n",
       "      <td>3</td>\n",
       "      <td>34.5</td>\n",
       "      <td>0</td>\n",
       "      <td>0</td>\n",
       "      <td>330911</td>\n",
       "      <td>7.8292</td>\n",
       "      <td>0</td>\n",
       "      <td>1</td>\n",
       "      <td>0</td>\n",
       "      <td>1</td>\n",
       "      <td>0</td>\n",
       "      <td>1</td>\n",
       "    </tr>\n",
       "  </tbody>\n",
       "</table>\n",
       "</div>"
      ],
      "text/plain": [
       "                  PassengerId  Pclass   Age  SibSp  Parch  Ticket    Fare  \\\n",
       "Name                                                                        \n",
       "Kelly, Mr. James          892       3  34.5      0      0  330911  7.8292   \n",
       "\n",
       "                  Sex_female  Sex_male  Embarked_C  Embarked_Q  Embarked_S  \\\n",
       "Name                                                                         \n",
       "Kelly, Mr. James           0         1           0           1           0   \n",
       "\n",
       "                  Frequency  \n",
       "Name                         \n",
       "Kelly, Mr. James          1  "
      ]
     },
     "execution_count": 75,
     "metadata": {},
     "output_type": "execute_result"
    }
   ],
   "source": [
    "rf_new_1.head(1)"
   ]
  },
  {
   "cell_type": "code",
   "execution_count": null,
   "id": "c5648c0e-08d4-46dc-ace4-d37f952ae0d6",
   "metadata": {},
   "outputs": [],
   "source": [
    "# Initialize K-Fold Target Encoding.\n",
    "# There are 3 target variables due to one hot encoding."
   ]
  },
  {
   "cell_type": "code",
   "execution_count": 77,
   "id": "98f4f90b-e088-4e8b-b0d3-5a5ca695d745",
   "metadata": {},
   "outputs": [],
   "source": [
    "kf_1 = KFold(n_splits=2, shuffle=True, random_state = 42)\n",
    "# Initialize arrays to store target-encoded values for each target column\n",
    "target_encoded_C = np.zeros(len(rf_new_1))\n",
    "target_encoded_Q = np.zeros(len(rf_new_1))\n",
    "target_encoded_S = np.zeros(len(rf_new_1))"
   ]
  },
  {
   "cell_type": "code",
   "execution_count": 81,
   "id": "157e6b15-4a1e-4bb7-898e-96c1081161a8",
   "metadata": {},
   "outputs": [
    {
     "data": {
      "text/html": [
       "<div>\n",
       "<style scoped>\n",
       "    .dataframe tbody tr th:only-of-type {\n",
       "        vertical-align: middle;\n",
       "    }\n",
       "\n",
       "    .dataframe tbody tr th {\n",
       "        vertical-align: top;\n",
       "    }\n",
       "\n",
       "    .dataframe thead th {\n",
       "        text-align: right;\n",
       "    }\n",
       "</style>\n",
       "<table border=\"1\" class=\"dataframe\">\n",
       "  <thead>\n",
       "    <tr style=\"text-align: right;\">\n",
       "      <th></th>\n",
       "      <th>PassengerId</th>\n",
       "      <th>Pclass</th>\n",
       "      <th>Age</th>\n",
       "      <th>SibSp</th>\n",
       "      <th>Parch</th>\n",
       "      <th>Ticket</th>\n",
       "      <th>Fare</th>\n",
       "      <th>Sex_female</th>\n",
       "      <th>Sex_male</th>\n",
       "      <th>Embarked_C</th>\n",
       "      <th>Embarked_Q</th>\n",
       "      <th>Embarked_S</th>\n",
       "      <th>Frequency</th>\n",
       "      <th>Target_Encoded_C</th>\n",
       "      <th>Target_Encoded_Q</th>\n",
       "      <th>Target_Encoded_S</th>\n",
       "    </tr>\n",
       "    <tr>\n",
       "      <th>Name</th>\n",
       "      <th></th>\n",
       "      <th></th>\n",
       "      <th></th>\n",
       "      <th></th>\n",
       "      <th></th>\n",
       "      <th></th>\n",
       "      <th></th>\n",
       "      <th></th>\n",
       "      <th></th>\n",
       "      <th></th>\n",
       "      <th></th>\n",
       "      <th></th>\n",
       "      <th></th>\n",
       "      <th></th>\n",
       "      <th></th>\n",
       "      <th></th>\n",
       "    </tr>\n",
       "  </thead>\n",
       "  <tbody>\n",
       "    <tr>\n",
       "      <th>Kelly, Mr. James</th>\n",
       "      <td>892</td>\n",
       "      <td>3</td>\n",
       "      <td>34.5</td>\n",
       "      <td>0</td>\n",
       "      <td>0</td>\n",
       "      <td>330911</td>\n",
       "      <td>7.8292</td>\n",
       "      <td>0</td>\n",
       "      <td>1</td>\n",
       "      <td>0</td>\n",
       "      <td>1</td>\n",
       "      <td>0</td>\n",
       "      <td>1</td>\n",
       "      <td>NaN</td>\n",
       "      <td>NaN</td>\n",
       "      <td>NaN</td>\n",
       "    </tr>\n",
       "    <tr>\n",
       "      <th>Wilkes, Mrs. James (Ellen Needs)</th>\n",
       "      <td>893</td>\n",
       "      <td>3</td>\n",
       "      <td>47.0</td>\n",
       "      <td>1</td>\n",
       "      <td>0</td>\n",
       "      <td>363272</td>\n",
       "      <td>7.0000</td>\n",
       "      <td>1</td>\n",
       "      <td>0</td>\n",
       "      <td>0</td>\n",
       "      <td>0</td>\n",
       "      <td>1</td>\n",
       "      <td>1</td>\n",
       "      <td>NaN</td>\n",
       "      <td>NaN</td>\n",
       "      <td>NaN</td>\n",
       "    </tr>\n",
       "  </tbody>\n",
       "</table>\n",
       "</div>"
      ],
      "text/plain": [
       "                                  PassengerId  Pclass   Age  SibSp  Parch  \\\n",
       "Name                                                                        \n",
       "Kelly, Mr. James                          892       3  34.5      0      0   \n",
       "Wilkes, Mrs. James (Ellen Needs)          893       3  47.0      1      0   \n",
       "\n",
       "                                  Ticket    Fare  Sex_female  Sex_male  \\\n",
       "Name                                                                     \n",
       "Kelly, Mr. James                  330911  7.8292           0         1   \n",
       "Wilkes, Mrs. James (Ellen Needs)  363272  7.0000           1         0   \n",
       "\n",
       "                                  Embarked_C  Embarked_Q  Embarked_S  \\\n",
       "Name                                                                   \n",
       "Kelly, Mr. James                           0           1           0   \n",
       "Wilkes, Mrs. James (Ellen Needs)           0           0           1   \n",
       "\n",
       "                                  Frequency  Target_Encoded_C  \\\n",
       "Name                                                            \n",
       "Kelly, Mr. James                          1               NaN   \n",
       "Wilkes, Mrs. James (Ellen Needs)          1               NaN   \n",
       "\n",
       "                                  Target_Encoded_Q  Target_Encoded_S  \n",
       "Name                                                                  \n",
       "Kelly, Mr. James                               NaN               NaN  \n",
       "Wilkes, Mrs. James (Ellen Needs)               NaN               NaN  "
      ]
     },
     "execution_count": 81,
     "metadata": {},
     "output_type": "execute_result"
    }
   ],
   "source": [
    "for train_idx, val_idx in kf_1.split(rf_new_1):\n",
    "    train, val = rf_new_1.iloc[train_idx], rf_new_1.iloc[val_idx]\n",
    "\n",
    "# Compute mean target for each one-hot encoded target column\n",
    "    mean_target_C = train.groupby('Ticket')['Embarked_C'].mean()\n",
    "    mean_target_Q = train.groupby('Ticket')['Embarked_Q'].mean()\n",
    "    mean_target_S = train.groupby('Ticket')['Embarked_S'].mean()\n",
    "\n",
    "# Map the mean target values to the validation set\n",
    "    target_encoded_C[val_idx] = val['Ticket'].map(mean_target_C)\n",
    "    target_encoded_Q[val_idx] = val['Ticket'].map(mean_target_Q)\n",
    "    target_encoded_S[val_idx] = val['Ticket'].map(mean_target_S)\n",
    "\n",
    "# Add encoded columns back to the dataframe\n",
    "\n",
    "rf_new_1['Target_Encoded_C'] = target_encoded_C\n",
    "rf_new_1['Target_Encoded_Q'] = target_encoded_Q\n",
    "rf_new_1['Target_Encoded_S'] = target_encoded_S\n",
    "\n",
    "rf_new_1.head(2)"
   ]
  },
  {
   "cell_type": "code",
   "execution_count": 83,
   "id": "c244c662-1a0b-4a51-bd54-9079b84402c5",
   "metadata": {},
   "outputs": [
    {
     "name": "stdout",
     "output_type": "stream",
     "text": [
      "0.38095238095238093\n",
      "0.0\n",
      "0.6190476190476191\n"
     ]
    }
   ],
   "source": [
    "mean_value_1 = rf_new_1['Target_Encoded_C'].mean()\n",
    "print (mean_value_1)\n",
    "mean_value_2 = rf_new_1['Target_Encoded_Q'].mean()\n",
    "print (mean_value_2)\n",
    "mean_value_3 = rf_new_1['Target_Encoded_S'].mean()\n",
    "print (mean_value_3)"
   ]
  },
  {
   "cell_type": "code",
   "execution_count": 85,
   "id": "bacc6a9b-c843-479f-a4f4-1820b7fd2844",
   "metadata": {},
   "outputs": [
    {
     "data": {
      "text/plain": [
       "Target_Encoded_Q\n",
       "0.0    63\n",
       "Name: count, dtype: int64"
      ]
     },
     "execution_count": 85,
     "metadata": {},
     "output_type": "execute_result"
    }
   ],
   "source": [
    "rf_new_1['Target_Encoded_Q'].value_counts()"
   ]
  },
  {
   "cell_type": "code",
   "execution_count": 91,
   "id": "4be9b1c9-87af-4ba6-84df-a9be0408b33c",
   "metadata": {},
   "outputs": [
    {
     "data": {
      "text/plain": [
       "Target_Encoded_C\n",
       "0.0    39\n",
       "1.0    24\n",
       "Name: count, dtype: int64"
      ]
     },
     "execution_count": 91,
     "metadata": {},
     "output_type": "execute_result"
    }
   ],
   "source": [
    "rf_new_1['Target_Encoded_C'].value_counts()"
   ]
  },
  {
   "cell_type": "code",
   "execution_count": 93,
   "id": "6215b7ec-4f27-498e-95fe-07d192de0f1c",
   "metadata": {},
   "outputs": [
    {
     "data": {
      "text/plain": [
       "Target_Encoded_S\n",
       "1.0    39\n",
       "0.0    24\n",
       "Name: count, dtype: int64"
      ]
     },
     "execution_count": 93,
     "metadata": {},
     "output_type": "execute_result"
    }
   ],
   "source": [
    "rf_new_1['Target_Encoded_S'].value_counts()"
   ]
  },
  {
   "cell_type": "code",
   "execution_count": 87,
   "id": "06eb99da-e0c9-4add-a348-dbefc91b37cb",
   "metadata": {},
   "outputs": [
    {
     "data": {
      "text/plain": [
       "<bound method IndexOpsMixin.nunique of Name\n",
       "Kelly, Mr. James                               NaN\n",
       "Wilkes, Mrs. James (Ellen Needs)               NaN\n",
       "Myles, Mr. Thomas Francis                      NaN\n",
       "Wirz, Mr. Albert                               NaN\n",
       "Hirvonen, Mrs. Alexander (Helga E Lindqvist)   NaN\n",
       "                                                ..\n",
       "Spector, Mr. Woolf                             NaN\n",
       "Oliva y Ocana, Dona. Fermina                   NaN\n",
       "Saether, Mr. Simon Sivertsen                   NaN\n",
       "Ware, Mr. Frederick                            NaN\n",
       "Peter, Master. Michael J                       NaN\n",
       "Name: Target_Encoded_Q, Length: 418, dtype: float64>"
      ]
     },
     "execution_count": 87,
     "metadata": {},
     "output_type": "execute_result"
    }
   ],
   "source": [
    "rf_new_1['Target_Encoded_Q'].nunique"
   ]
  },
  {
   "cell_type": "code",
   "execution_count": 89,
   "id": "8740fd01-b6eb-4c06-acda-0470ad11d883",
   "metadata": {},
   "outputs": [
    {
     "data": {
      "text/plain": [
       "355"
      ]
     },
     "execution_count": 89,
     "metadata": {},
     "output_type": "execute_result"
    }
   ],
   "source": [
    "rf_new_1['Target_Encoded_Q'].isnull().sum()"
   ]
  },
  {
   "cell_type": "code",
   "execution_count": null,
   "id": "a0e5453b-712a-401d-a772-d6ffba72ebde",
   "metadata": {},
   "outputs": [],
   "source": [
    "# Although there are missing values, since this is test data, null values are not treated, \n",
    "# in order to avoid biasness."
   ]
  },
  {
   "cell_type": "code",
   "execution_count": 98,
   "id": "b40e911a-8e01-465f-93fd-91d6b749b8fe",
   "metadata": {},
   "outputs": [
    {
     "data": {
      "text/html": [
       "<div>\n",
       "<style scoped>\n",
       "    .dataframe tbody tr th:only-of-type {\n",
       "        vertical-align: middle;\n",
       "    }\n",
       "\n",
       "    .dataframe tbody tr th {\n",
       "        vertical-align: top;\n",
       "    }\n",
       "\n",
       "    .dataframe thead th {\n",
       "        text-align: right;\n",
       "    }\n",
       "</style>\n",
       "<table border=\"1\" class=\"dataframe\">\n",
       "  <thead>\n",
       "    <tr style=\"text-align: right;\">\n",
       "      <th></th>\n",
       "      <th>PassengerId</th>\n",
       "      <th>Pclass</th>\n",
       "      <th>Age</th>\n",
       "      <th>SibSp</th>\n",
       "      <th>Parch</th>\n",
       "      <th>Ticket</th>\n",
       "      <th>Fare</th>\n",
       "      <th>Sex_female</th>\n",
       "      <th>Sex_male</th>\n",
       "      <th>Embarked_C</th>\n",
       "      <th>Embarked_Q</th>\n",
       "      <th>Embarked_S</th>\n",
       "      <th>Frequency</th>\n",
       "      <th>Target_Encoded_C</th>\n",
       "      <th>Target_Encoded_Q</th>\n",
       "      <th>Target_Encoded_S</th>\n",
       "    </tr>\n",
       "    <tr>\n",
       "      <th>Name</th>\n",
       "      <th></th>\n",
       "      <th></th>\n",
       "      <th></th>\n",
       "      <th></th>\n",
       "      <th></th>\n",
       "      <th></th>\n",
       "      <th></th>\n",
       "      <th></th>\n",
       "      <th></th>\n",
       "      <th></th>\n",
       "      <th></th>\n",
       "      <th></th>\n",
       "      <th></th>\n",
       "      <th></th>\n",
       "      <th></th>\n",
       "      <th></th>\n",
       "    </tr>\n",
       "  </thead>\n",
       "  <tbody>\n",
       "    <tr>\n",
       "      <th>Kelly, Mr. James</th>\n",
       "      <td>892</td>\n",
       "      <td>3</td>\n",
       "      <td>34.5</td>\n",
       "      <td>0</td>\n",
       "      <td>0</td>\n",
       "      <td>330911</td>\n",
       "      <td>7.8292</td>\n",
       "      <td>0</td>\n",
       "      <td>1</td>\n",
       "      <td>0</td>\n",
       "      <td>1</td>\n",
       "      <td>0</td>\n",
       "      <td>1</td>\n",
       "      <td>NaN</td>\n",
       "      <td>NaN</td>\n",
       "      <td>NaN</td>\n",
       "    </tr>\n",
       "    <tr>\n",
       "      <th>Wilkes, Mrs. James (Ellen Needs)</th>\n",
       "      <td>893</td>\n",
       "      <td>3</td>\n",
       "      <td>47.0</td>\n",
       "      <td>1</td>\n",
       "      <td>0</td>\n",
       "      <td>363272</td>\n",
       "      <td>7.0000</td>\n",
       "      <td>1</td>\n",
       "      <td>0</td>\n",
       "      <td>0</td>\n",
       "      <td>0</td>\n",
       "      <td>1</td>\n",
       "      <td>1</td>\n",
       "      <td>NaN</td>\n",
       "      <td>NaN</td>\n",
       "      <td>NaN</td>\n",
       "    </tr>\n",
       "  </tbody>\n",
       "</table>\n",
       "</div>"
      ],
      "text/plain": [
       "                                  PassengerId  Pclass   Age  SibSp  Parch  \\\n",
       "Name                                                                        \n",
       "Kelly, Mr. James                          892       3  34.5      0      0   \n",
       "Wilkes, Mrs. James (Ellen Needs)          893       3  47.0      1      0   \n",
       "\n",
       "                                  Ticket    Fare  Sex_female  Sex_male  \\\n",
       "Name                                                                     \n",
       "Kelly, Mr. James                  330911  7.8292           0         1   \n",
       "Wilkes, Mrs. James (Ellen Needs)  363272  7.0000           1         0   \n",
       "\n",
       "                                  Embarked_C  Embarked_Q  Embarked_S  \\\n",
       "Name                                                                   \n",
       "Kelly, Mr. James                           0           1           0   \n",
       "Wilkes, Mrs. James (Ellen Needs)           0           0           1   \n",
       "\n",
       "                                  Frequency  Target_Encoded_C  \\\n",
       "Name                                                            \n",
       "Kelly, Mr. James                          1               NaN   \n",
       "Wilkes, Mrs. James (Ellen Needs)          1               NaN   \n",
       "\n",
       "                                  Target_Encoded_Q  Target_Encoded_S  \n",
       "Name                                                                  \n",
       "Kelly, Mr. James                               NaN               NaN  \n",
       "Wilkes, Mrs. James (Ellen Needs)               NaN               NaN  "
      ]
     },
     "execution_count": 98,
     "metadata": {},
     "output_type": "execute_result"
    }
   ],
   "source": [
    "rf_new_1.head(2)"
   ]
  },
  {
   "cell_type": "code",
   "execution_count": 100,
   "id": "363f5bc3-def7-4c17-8f9f-f07c530d4510",
   "metadata": {},
   "outputs": [],
   "source": [
    "# Removing 'Ticket' column, because there are frequency and k fold columns representing the same."
   ]
  },
  {
   "cell_type": "code",
   "execution_count": 102,
   "id": "58276421-f8a6-488e-ac42-24161124ef5e",
   "metadata": {},
   "outputs": [],
   "source": [
    "rf_new_2=rf_new_1\n",
    "rf_new_2 = rf_new_2.drop(['Ticket'], axis=1)"
   ]
  },
  {
   "cell_type": "code",
   "execution_count": 106,
   "id": "d628631c-c116-4d1e-9ee5-f3b81354470e",
   "metadata": {},
   "outputs": [
    {
     "data": {
      "text/html": [
       "<div>\n",
       "<style scoped>\n",
       "    .dataframe tbody tr th:only-of-type {\n",
       "        vertical-align: middle;\n",
       "    }\n",
       "\n",
       "    .dataframe tbody tr th {\n",
       "        vertical-align: top;\n",
       "    }\n",
       "\n",
       "    .dataframe thead th {\n",
       "        text-align: right;\n",
       "    }\n",
       "</style>\n",
       "<table border=\"1\" class=\"dataframe\">\n",
       "  <thead>\n",
       "    <tr style=\"text-align: right;\">\n",
       "      <th></th>\n",
       "      <th>PassengerId</th>\n",
       "      <th>Pclass</th>\n",
       "      <th>Age</th>\n",
       "      <th>SibSp</th>\n",
       "      <th>Parch</th>\n",
       "      <th>Fare</th>\n",
       "      <th>Sex_female</th>\n",
       "      <th>Sex_male</th>\n",
       "      <th>Embarked_C</th>\n",
       "      <th>Embarked_Q</th>\n",
       "      <th>Embarked_S</th>\n",
       "      <th>Frequency</th>\n",
       "      <th>Target_Encoded_C</th>\n",
       "      <th>Target_Encoded_Q</th>\n",
       "      <th>Target_Encoded_S</th>\n",
       "    </tr>\n",
       "    <tr>\n",
       "      <th>Name</th>\n",
       "      <th></th>\n",
       "      <th></th>\n",
       "      <th></th>\n",
       "      <th></th>\n",
       "      <th></th>\n",
       "      <th></th>\n",
       "      <th></th>\n",
       "      <th></th>\n",
       "      <th></th>\n",
       "      <th></th>\n",
       "      <th></th>\n",
       "      <th></th>\n",
       "      <th></th>\n",
       "      <th></th>\n",
       "      <th></th>\n",
       "    </tr>\n",
       "  </thead>\n",
       "  <tbody>\n",
       "    <tr>\n",
       "      <th>Kelly, Mr. James</th>\n",
       "      <td>892</td>\n",
       "      <td>3</td>\n",
       "      <td>34.5</td>\n",
       "      <td>0</td>\n",
       "      <td>0</td>\n",
       "      <td>7.8292</td>\n",
       "      <td>0</td>\n",
       "      <td>1</td>\n",
       "      <td>0</td>\n",
       "      <td>1</td>\n",
       "      <td>0</td>\n",
       "      <td>1</td>\n",
       "      <td>NaN</td>\n",
       "      <td>NaN</td>\n",
       "      <td>NaN</td>\n",
       "    </tr>\n",
       "    <tr>\n",
       "      <th>Wilkes, Mrs. James (Ellen Needs)</th>\n",
       "      <td>893</td>\n",
       "      <td>3</td>\n",
       "      <td>47.0</td>\n",
       "      <td>1</td>\n",
       "      <td>0</td>\n",
       "      <td>7.0000</td>\n",
       "      <td>1</td>\n",
       "      <td>0</td>\n",
       "      <td>0</td>\n",
       "      <td>0</td>\n",
       "      <td>1</td>\n",
       "      <td>1</td>\n",
       "      <td>NaN</td>\n",
       "      <td>NaN</td>\n",
       "      <td>NaN</td>\n",
       "    </tr>\n",
       "  </tbody>\n",
       "</table>\n",
       "</div>"
      ],
      "text/plain": [
       "                                  PassengerId  Pclass   Age  SibSp  Parch  \\\n",
       "Name                                                                        \n",
       "Kelly, Mr. James                          892       3  34.5      0      0   \n",
       "Wilkes, Mrs. James (Ellen Needs)          893       3  47.0      1      0   \n",
       "\n",
       "                                    Fare  Sex_female  Sex_male  Embarked_C  \\\n",
       "Name                                                                         \n",
       "Kelly, Mr. James                  7.8292           0         1           0   \n",
       "Wilkes, Mrs. James (Ellen Needs)  7.0000           1         0           0   \n",
       "\n",
       "                                  Embarked_Q  Embarked_S  Frequency  \\\n",
       "Name                                                                  \n",
       "Kelly, Mr. James                           1           0          1   \n",
       "Wilkes, Mrs. James (Ellen Needs)           0           1          1   \n",
       "\n",
       "                                  Target_Encoded_C  Target_Encoded_Q  \\\n",
       "Name                                                                   \n",
       "Kelly, Mr. James                               NaN               NaN   \n",
       "Wilkes, Mrs. James (Ellen Needs)               NaN               NaN   \n",
       "\n",
       "                                  Target_Encoded_S  \n",
       "Name                                                \n",
       "Kelly, Mr. James                               NaN  \n",
       "Wilkes, Mrs. James (Ellen Needs)               NaN  "
      ]
     },
     "execution_count": 106,
     "metadata": {},
     "output_type": "execute_result"
    }
   ],
   "source": [
    "rf_new_2.head(2)"
   ]
  },
  {
   "cell_type": "code",
   "execution_count": 108,
   "id": "e3354752-47c4-48a7-a0a7-246d4740fbc4",
   "metadata": {},
   "outputs": [
    {
     "data": {
      "text/plain": [
       "(418, 15)"
      ]
     },
     "execution_count": 108,
     "metadata": {},
     "output_type": "execute_result"
    }
   ],
   "source": [
    "rf_new_2.shape"
   ]
  },
  {
   "cell_type": "code",
   "execution_count": null,
   "id": "14269cea-252d-45eb-a950-a0bfc78d358a",
   "metadata": {},
   "outputs": [],
   "source": []
  },
  {
   "cell_type": "code",
   "execution_count": 110,
   "id": "bdb4747b-4e06-4909-a544-d0149fcc73fa",
   "metadata": {},
   "outputs": [],
   "source": [
    "# Removing null values from X_test"
   ]
  },
  {
   "cell_type": "code",
   "execution_count": 114,
   "id": "8cd1cb59-f862-42f6-90e4-ae9ef80dfd59",
   "metadata": {},
   "outputs": [
    {
     "data": {
      "text/plain": [
       "PassengerId           0\n",
       "Pclass                0\n",
       "Age                  86\n",
       "SibSp                 0\n",
       "Parch                 0\n",
       "Fare                  1\n",
       "Sex_female            0\n",
       "Sex_male              0\n",
       "Embarked_C            0\n",
       "Embarked_Q            0\n",
       "Embarked_S            0\n",
       "Frequency             0\n",
       "Target_Encoded_C    355\n",
       "Target_Encoded_Q    355\n",
       "Target_Encoded_S    355\n",
       "dtype: int64"
      ]
     },
     "execution_count": 114,
     "metadata": {},
     "output_type": "execute_result"
    }
   ],
   "source": [
    "rf_new_2.isnull().sum()"
   ]
  },
  {
   "cell_type": "code",
   "execution_count": null,
   "id": "23a502ff-2563-4dc4-93d8-89bf36c31520",
   "metadata": {},
   "outputs": [],
   "source": []
  },
  {
   "cell_type": "code",
   "execution_count": null,
   "id": "9cb705d4-6752-4903-9537-6cc12be4cbd8",
   "metadata": {},
   "outputs": [],
   "source": [
    "mean_value_a = rf_new_2['Target_Encoded_C'].mean()\n",
    "print (mean_value_a)"
   ]
  },
  {
   "cell_type": "code",
   "execution_count": null,
   "id": "a22ff086-013e-4a5e-9a68-9667ec4e4cd4",
   "metadata": {},
   "outputs": [],
   "source": [
    "mean_value_2 = df_new_3['Target_Encoded_Q'].mean()\n",
    "print (mean_value_2)"
   ]
  },
  {
   "cell_type": "code",
   "execution_count": null,
   "id": "d02b6fa9-c35c-4b74-be90-da8e76f65831",
   "metadata": {},
   "outputs": [],
   "source": [
    "mean_value_3 = df_new_3['Target_Encoded_S'].mean()\n",
    "print (mean_value_3)"
   ]
  },
  {
   "cell_type": "code",
   "execution_count": null,
   "id": "b7478f95-63a8-473f-9e8d-c9fed4706ad3",
   "metadata": {},
   "outputs": [],
   "source": [
    "df_new_3['Target_Encoded_C'] = df_new_3['Target_Encoded_C'].fillna(mean_value_1)\n",
    "df_new_3['Target_Encoded_Q'] = df_new_3['Target_Encoded_Q'].fillna(mean_value_2)\n",
    "df_new_3['Target_Encoded_S'] = df_new_3['Target_Encoded_S'].fillna(mean_value_3)"
   ]
  },
  {
   "cell_type": "code",
   "execution_count": null,
   "id": "a5f2441b-b029-4dce-bd95-e8361da6d026",
   "metadata": {},
   "outputs": [],
   "source": []
  },
  {
   "cell_type": "code",
   "execution_count": null,
   "id": "f7119928-3e60-4566-b875-b56d04168025",
   "metadata": {},
   "outputs": [],
   "source": []
  },
  {
   "cell_type": "code",
   "execution_count": null,
   "id": "92209c28-bf67-4c3b-974d-787c9bb43539",
   "metadata": {},
   "outputs": [],
   "source": []
  }
 ],
 "metadata": {
  "kernelspec": {
   "display_name": "Python [conda env:base] *",
   "language": "python",
   "name": "conda-base-py"
  },
  "language_info": {
   "codemirror_mode": {
    "name": "ipython",
    "version": 3
   },
   "file_extension": ".py",
   "mimetype": "text/x-python",
   "name": "python",
   "nbconvert_exporter": "python",
   "pygments_lexer": "ipython3",
   "version": "3.12.7"
  }
 },
 "nbformat": 4,
 "nbformat_minor": 5
}
